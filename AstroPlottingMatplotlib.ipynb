{
 "cells": [
  {
   "cell_type": "markdown",
   "metadata": {},
   "source": [
    "# OverView:\n",
    "\n",
    "- Load file into pandas DataFrame\n",
    "- Add Labels to DF\n",
    "- Select data to scatter plot\n",
    "- plot data as scatter\n",
    "- Select data to histogram plot\n",
    "- plot data as histogram\n",
    "- select data to contour plot\n",
    "- plot data as contour plot\n",
    "- 2D Histogram select data\n",
    "- 2D Histogram Plot\n",
    "- export plots?\n",
    "\n",
    "------------------------------------\n",
    "## Details of implementation\n",
    "Load file to DF:\n",
    "- pandas function to load: read_table\n",
    "-- seperator is any whitespace\n",
    "\n",
    "Add Labels:\n",
    "- declare labels\n",
    "- clean labels\n",
    "- assign to DF\n",
    "\n",
    "Select data to scatter plot:\n",
    "- pull SSFR and M* from df (by column name)\n",
    "- perhaps calculate SSFR if needed\n",
    "- log SSFR vs log M*\n",
    "\n",
    "\n",
    "Plot Scatter Plot:\n",
    "- choose scale\n",
    "- axis labels\n",
    "- color variations for some thrid value?\n",
    "- title label\n",
    "- input data\n",
    "- pyplot.show()\n",
    "\n",
    "Select data to histogram plot\n",
    " - pull SSFR from df (by column name)\n",
    " - log SSFR [SSFR = SFR / M*] {where SFR and M* are not logged when you take the ratio!}\n",
    "\n",
    "Plot Histogram:\n",
    "\n",
    "\n",
    "contour plot: - 2 dimensional histogram\n",
    "- x log(m*)\n",
    "- y log(sfr)\n",
    "- z = ? (frequency?)\n",
    "\n",
    "twoDHist select\n",
    "- SSRF and m*\n",
    "\n",
    "# Code below"
   ]
  },
  {
   "cell_type": "code",
   "execution_count": 3,
   "metadata": {},
   "outputs": [],
   "source": [
    "# imports tools for use\n",
    "import pandas as pd\n",
    "import numpy as np\n",
    "from pprint import pprint # for debugging and looking at lists in a pretty way means \"pretty print\"\n",
    "from matplotlib import pyplot as plt\n",
    "import math"
   ]
  },
  {
   "cell_type": "markdown",
   "metadata": {},
   "source": [
    "- This data set's file location is expected to be in the same file location as this .ipynb file. \n",
    "- From http://pages.iu.edu/~salims/gswlc/GSWLC-M2.dat.gz\n",
    "- Once downloaded, remove the .gz file type from the file (On Mac: right click on file; click more info; click name section; delete; all done)\n",
    "- Move file to this folder where this project is located."
   ]
  },
  {
   "cell_type": "code",
   "execution_count": 4,
   "metadata": {},
   "outputs": [
    {
     "name": "stdout",
     "output_type": "stream",
     "text": [
      "        1237645942905634957                  -99  1242  52901  461  \\\n",
      "0       1237645942905634975                  -99  1242  52901  479   \n",
      "1       1237645942905635004  3786262985749565412  1242  52901  487   \n",
      "2       1237645942905700478  3786262985749565371  1242  52901  491   \n",
      "3       1237645942905700561                  -99  1242  52901  493   \n",
      "4       1237645942905831669                  -99  1242  52901  546   \n",
      "...                     ...                  ...   ...    ...  ...   \n",
      "361322  1237680303173141243  4473835985310846807  5953  56092  136   \n",
      "361323  1237680296736522605  4480556200379814459  5026  55855  804   \n",
      "361324  1237680099702276280  6485115431195518114  4273  55506  188   \n",
      "361325  1237680306396004407                  -99  5951  56102  190   \n",
      "361326  1237680306931106409  4473835985310843880  5949  56096  668   \n",
      "\n",
      "         57.442293   0.158853  0.1593  0.90  11.563  ...  0.690  0.240  0.105  \\\n",
      "0        57.452672   0.044341  0.1351  2.26  10.763  ...  0.978  0.760  0.142   \n",
      "1        57.490415   0.074355  0.1316  1.30  11.379  ...  0.721  0.372  0.089   \n",
      "2        57.508919   0.066566  0.1314  0.04  11.204  ...  1.203  0.613  0.235   \n",
      "3        57.507462   0.027608  0.1319  0.16  10.494  ...  0.731  0.543  0.208   \n",
      "4        57.944208   0.077158  0.1672  0.92  11.304  ...  0.657  0.345  0.076   \n",
      "...            ...        ...     ...   ...     ...  ...    ...    ...    ...   \n",
      "361322  327.980640  23.071793  0.1419  0.98  11.461  ...  0.594  0.578  0.097   \n",
      "361323  341.228030  19.619963  0.0999  0.53  11.058  ...  0.665  0.485  0.084   \n",
      "361324   27.967929   1.855974  0.1872  1.11  11.269  ...  0.836  0.231  0.078   \n",
      "361325  331.938290  23.388998  0.2250  3.37  11.874  ...  0.410  0.281  0.044   \n",
      "361326  327.642630  22.722382  0.1366  1.40  11.255  ...  1.303  0.525  0.128   \n",
      "\n",
      "        0.161  0.071  0  2  0.1  0.2  1  \n",
      "0       0.483  0.102  0  2    0    7  1  \n",
      "1       0.253  0.063  0  2    0    0  1  \n",
      "2       0.409  0.166  0  2    0    0  1  \n",
      "3       0.367  0.153  0  2    0    0  1  \n",
      "4       0.235  0.055  0  2    0    0  1  \n",
      "...       ...    ... .. ..  ...  ... ..  \n",
      "361322  0.472  0.096  0  2    2    2  0  \n",
      "361323  0.349  0.071  0  2    2    1  0  \n",
      "361324  0.172  0.054  0  2    0    1  0  \n",
      "361325  0.190  0.035  0  2    0    0  0  \n",
      "361326  0.346  0.084  0  2    0    2  0  \n",
      "\n",
      "[361327 rows x 24 columns]\n"
     ]
    }
   ],
   "source": [
    "# Load file into pandas DataFrame\n",
    "fileName = \"./GSWLC-M2.dat\"\n",
    "astroDF = pd.read_table(fileName, sep=\"\\s+\")\n",
    "pprint(astroDF)"
   ]
  },
  {
   "cell_type": "code",
   "execution_count": 5,
   "metadata": {},
   "outputs": [],
   "source": [
    "#Add Labels: - declare labels\n",
    "\n",
    "# labels come from https://salims.pages.iu.edu/gswlc/table2.pdf\n",
    "\n",
    "# some labels copy poorly due to non-standard character usage in the document\n",
    "\n",
    "# changes 21 UV survey to 21 UV_survey and 5 fiber ID to 5 fiber_ID manually to make the process of cleaning much easier\n",
    "# changes multi-line phrases entries to single line entries manually to make for easier cleaning\n",
    "# changes line 11 and 12 to be log_SFRSED\n",
    "# changes line 19 (AV ) to (AV)\n",
    "\n",
    "\n",
    "mTwoLabels=\"\"\"1 ObjID SDSS photometric identification number\n",
    "2 GLXID GALEX photometric identification number\n",
    "3 plate SDSS spectroscopic plate number\n",
    "4 MJD SDSS spectroscopic plate date\n",
    "5 fiber_ID SDSS spectroscopic fiber identification number\n",
    "6 RA deg Right Ascension from SDSS\n",
    "7 Decl. deg Declination from SDSS\n",
    "8 z Redshift from SDSS\n",
    "9 2r Reduced goodnes-of-fit value for the SED fitting\n",
    "10 logM⇤ M Stellar mass\n",
    "11 (logM⇤) M Error of the stellar mass\n",
    "12 log_SFRSED Myr-1 UV/optical (SED) star formation rate\n",
    "13 (log_SFRSED) Myr-1 Error of the SFR\n",
    "14 AFUV mag Dust attenuation in rest-frame FUV\n",
    "15 (AFUV) mag Error of dust attenuation in FUV\n",
    "16 AB mag Dust attenuation in rest-frame B\n",
    "17 (AB) mag Error of dust attenuation in B\n",
    "18 AV mag Dust attenuation in rest-frame V\n",
    "19 (AV) mag Error of dust attenuation in V\n",
    "20 flag_sed SED fitting flag (0 = OK, 1 = broad-line spectrum, 2 = 2r > 30, 5 = missing SDSS photometry)\n",
    "21 UV_survey 1 = GSWLC-A, 2 = GSWLC-M, 3 = GSWLC-D\n",
    "22 flag_uv UV (GALEX) flag (0 = no UV; 1 = FUV only; 2 = NUV only; 3 = both)\n",
    "23 flag_midir Mid-IR (unWISE) flag (0 = no mid-IR, 1 = LIR based on 12 µm, 2 = LIR based on 22 µm;5 = LIR corrected for mid-IR AGN emission)\n",
    "24 flag_mgs 0 = not in SDSS Main Galaxy Sample (MGS), 1 = in MGS\"\"\"\n"
   ]
  },
  {
   "cell_type": "code",
   "execution_count": 6,
   "metadata": {},
   "outputs": [],
   "source": [
    "# Add Labels: - clean labels\n",
    "\n",
    "\n",
    "def cleanMTwoLabels(mTwoLabels):\n",
    "    labels = mTwoLabels # stores the passed in labels in a holder variable to prevent changing the original object\n",
    "    labels = labels.split(\"\\n\") # creates a list each entry corresponding to a line\n",
    "    for index in range(len(labels)): # cycles through each index of the the list entries\n",
    "        label = labels[index] # creates holder variable of a single label entry\n",
    "        label = label.split(\" \") # turns each entry into a list of words\n",
    "        label = label[1] # uses the second word in the line (the label name)\n",
    "        labels[index]=label # sets label at this index to the new clean label\n",
    "    return labels\n",
    "\n",
    "mTwoCleanLabels = cleanMTwoLabels(mTwoLabels) # stores new list"
   ]
  },
  {
   "cell_type": "code",
   "execution_count": 7,
   "metadata": {
    "scrolled": true
   },
   "outputs": [
    {
     "name": "stdout",
     "output_type": "stream",
     "text": [
      "['ObjID',\n",
      " 'GLXID',\n",
      " 'plate',\n",
      " 'MJD',\n",
      " 'fiber_ID',\n",
      " 'RA',\n",
      " 'Decl.',\n",
      " 'z',\n",
      " '2r',\n",
      " 'logM⇤',\n",
      " '(logM⇤)',\n",
      " 'log_SFRSED',\n",
      " '(log_SFRSED)',\n",
      " 'AFUV',\n",
      " '(AFUV)',\n",
      " 'AB',\n",
      " '(AB)',\n",
      " 'AV',\n",
      " '(AV)',\n",
      " 'flag_sed',\n",
      " 'UV_survey',\n",
      " 'flag_uv',\n",
      " 'flag_midir',\n",
      " 'flag_mgs']\n"
     ]
    }
   ],
   "source": [
    "# Status Check: displays labels\n",
    "pprint(mTwoCleanLabels)"
   ]
  },
  {
   "cell_type": "code",
   "execution_count": 8,
   "metadata": {},
   "outputs": [],
   "source": [
    "# Add Labels: - assign to DF\n",
    "# TODO: Do the labels need to be shifted left one?\n",
    "astroDF.columns = mTwoCleanLabels"
   ]
  },
  {
   "cell_type": "code",
   "execution_count": 9,
   "metadata": {},
   "outputs": [
    {
     "name": "stdout",
     "output_type": "stream",
     "text": [
      "                      ObjID                GLXID  plate    MJD  fiber_ID  \\\n",
      "0       1237645942905634975                  -99   1242  52901       479   \n",
      "1       1237645942905635004  3786262985749565412   1242  52901       487   \n",
      "2       1237645942905700478  3786262985749565371   1242  52901       491   \n",
      "3       1237645942905700561                  -99   1242  52901       493   \n",
      "4       1237645942905831669                  -99   1242  52901       546   \n",
      "...                     ...                  ...    ...    ...       ...   \n",
      "361322  1237680303173141243  4473835985310846807   5953  56092       136   \n",
      "361323  1237680296736522605  4480556200379814459   5026  55855       804   \n",
      "361324  1237680099702276280  6485115431195518114   4273  55506       188   \n",
      "361325  1237680306396004407                  -99   5951  56102       190   \n",
      "361326  1237680306931106409  4473835985310843880   5949  56096       668   \n",
      "\n",
      "                RA      Decl.       z    2r   logM⇤  ...  (AFUV)     AB  \\\n",
      "0        57.452672   0.044341  0.1351  2.26  10.763  ...   0.978  0.760   \n",
      "1        57.490415   0.074355  0.1316  1.30  11.379  ...   0.721  0.372   \n",
      "2        57.508919   0.066566  0.1314  0.04  11.204  ...   1.203  0.613   \n",
      "3        57.507462   0.027608  0.1319  0.16  10.494  ...   0.731  0.543   \n",
      "4        57.944208   0.077158  0.1672  0.92  11.304  ...   0.657  0.345   \n",
      "...            ...        ...     ...   ...     ...  ...     ...    ...   \n",
      "361322  327.980640  23.071793  0.1419  0.98  11.461  ...   0.594  0.578   \n",
      "361323  341.228030  19.619963  0.0999  0.53  11.058  ...   0.665  0.485   \n",
      "361324   27.967929   1.855974  0.1872  1.11  11.269  ...   0.836  0.231   \n",
      "361325  331.938290  23.388998  0.2250  3.37  11.874  ...   0.410  0.281   \n",
      "361326  327.642630  22.722382  0.1366  1.40  11.255  ...   1.303  0.525   \n",
      "\n",
      "         (AB)     AV   (AV)  flag_sed  UV_survey  flag_uv  flag_midir  \\\n",
      "0       0.142  0.483  0.102         0          2        0           7   \n",
      "1       0.089  0.253  0.063         0          2        0           0   \n",
      "2       0.235  0.409  0.166         0          2        0           0   \n",
      "3       0.208  0.367  0.153         0          2        0           0   \n",
      "4       0.076  0.235  0.055         0          2        0           0   \n",
      "...       ...    ...    ...       ...        ...      ...         ...   \n",
      "361322  0.097  0.472  0.096         0          2        2           2   \n",
      "361323  0.084  0.349  0.071         0          2        2           1   \n",
      "361324  0.078  0.172  0.054         0          2        0           1   \n",
      "361325  0.044  0.190  0.035         0          2        0           0   \n",
      "361326  0.128  0.346  0.084         0          2        0           2   \n",
      "\n",
      "        flag_mgs  \n",
      "0              1  \n",
      "1              1  \n",
      "2              1  \n",
      "3              1  \n",
      "4              1  \n",
      "...          ...  \n",
      "361322         0  \n",
      "361323         0  \n",
      "361324         0  \n",
      "361325         0  \n",
      "361326         0  \n",
      "\n",
      "[361327 rows x 24 columns]\n"
     ]
    }
   ],
   "source": [
    "# Status Check: displays the dataFrame as it is now\n",
    "\n",
    "print(astroDF)"
   ]
  },
  {
   "cell_type": "code",
   "execution_count": 11,
   "metadata": {},
   "outputs": [],
   "source": [
    "# Select data to plot in scatter plot:\n",
    "\n",
    "mStarList = astroDF.loc[:,'logM⇤'].tolist()\n",
    "ScatterSRF = astroDF.loc[:,'log_SFRSED'].tolist()\n",
    "\n",
    "def getSSRFList(ScatterX,  ScatterSRF):\n",
    "    SSRFList = []\n",
    "    for index in range(len(ScatterSRF)):\n",
    "        iM = ScatterX[index]\n",
    "        iSRF = ScatterSRF[index]\n",
    "        iSSRF = iSRF/iM\n",
    "        # if needed can take log of SSRF here\n",
    "        SSRFList.append(iSSRF)\n",
    "    return SSRFList\n",
    "ScatterX = mStarList\n",
    "ScatterY = getSSRFList(ScatterX,  ScatterSRF)"
   ]
  },
  {
   "cell_type": "code",
   "execution_count": 12,
   "metadata": {},
   "outputs": [
    {
     "data": {
      "image/png": "[encoded data removed]",
      "text/plain": [
       "<Figure size 432x288 with 1 Axes>"
      ]
     },
     "metadata": {
      "needs_background": "light"
     },
     "output_type": "display_data"
    }
   ],
   "source": [
    "# plot scatter data\n",
    "# TODO: remove outliers or shift frame of view\n",
    "\n",
    "plt.scatter(ScatterX, ScatterY)\n",
    "plt.xlabel('M Star')\n",
    "plt.ylabel('SSRF')\n",
    "plt.title('log(SSRF)vs log(M star)')\n",
    "plt.xlim=[0, 20]\n",
    "plt.show()"
   ]
  },
  {
   "cell_type": "code",
   "execution_count": 27,
   "metadata": {},
   "outputs": [],
   "source": [
    "# Select data to plot in Histogram plot:\n",
    "\n",
    "HistX = astroDF.loc[:,'logM⇤'].tolist()\n"
   ]
  },
  {
   "cell_type": "code",
   "execution_count": 31,
   "metadata": {},
   "outputs": [
    {
     "data": {
      "text/plain": [
       "<function matplotlib.pyplot.show(*args, **kw)>"
      ]
     },
     "execution_count": 31,
     "metadata": {},
     "output_type": "execute_result"
    },
    {
     "data": {
      "image/png": "[encoded data removed]",
      "text/plain": [
       "<Figure size 432x288 with 1 Axes>"
      ]
     },
     "metadata": {
      "needs_background": "light"
     },
     "output_type": "display_data"
    }
   ],
   "source": [
    "# plot histogram\n",
    "numBins = 200\n",
    "range = (5, 15)#(x.min(), x.max())\n",
    "plt.hist(HistX, bins=numBins, range=range)\n",
    "plt.xlabel('M* value')\n",
    "plt.ylabel('frequency of occurance')\n",
    "plt.title('Histogram of M*')\n",
    "plt.show\n",
    "## TODO clean the data for this to be useful"
   ]
  },
  {
   "cell_type": "code",
   "execution_count": null,
   "metadata": {},
   "outputs": [],
   "source": [
    "# Select data to plot in Contour plot:\n",
    "#TODO: :which data are we using for the Z value?\n",
    "\n",
    "contourX = astroDF.loc[:,'logM⇤'].tolist()\n",
    "contourY = astroDF.loc[:,'log_SFRSED'].tolist()\n",
    "contourZ = astroDF.loc[:,'AFUV'].tolist()"
   ]
  },
  {
   "cell_type": "code",
   "execution_count": null,
   "metadata": {},
   "outputs": [],
   "source": [
    "# plot contour plot\n",
    "levels = 25\n",
    "cmap=''\n",
    "plt.ylabel('')\n",
    "plt.contour(contourX, contourY, contourZ, levels=levels)#adds cmap for colors"
   ]
  },
  {
   "cell_type": "code",
   "execution_count": 13,
   "metadata": {},
   "outputs": [],
   "source": [
    "# Select data to plot in Contour plot:\n",
    "#TODO: :which data are we using for the Z value?\n",
    "\n",
    "hist2dX = astroDF.loc[:,'logM⇤'].tolist()\n",
    "hist2dY = astroDF.loc[:,'log_SFRSED'].tolist()"
   ]
  },
  {
   "cell_type": "code",
   "execution_count": 25,
   "metadata": {},
   "outputs": [
    {
     "data": {
      "image/png": "[encoded data removed]",
      "text/plain": [
       "<Figure size 432x288 with 1 Axes>"
      ]
     },
     "metadata": {
      "needs_background": "light"
     },
     "output_type": "display_data"
    }
   ],
   "source": [
    "bins = 100\n",
    "range = [[5, 15], [-5, 5]]#[[xmin=0, xmax=20], [ymin=0, ymax=20]]\n",
    "plt.hist2d(x=hist2dX, y=hist2dY, bins=bins, range=range)\n",
    "plt.show()"
   ]
  },
  {
   "cell_type": "code",
   "execution_count": null,
   "metadata": {},
   "outputs": [],
   "source": []
  }
 ],
 "metadata": {
  "kernelspec": {
   "display_name": "Python 3",
   "language": "python",
   "name": "python3"
  },
  "language_info": {
   "codemirror_mode": {
    "name": "ipython",
    "version": 3
   },
   "file_extension": ".py",
   "mimetype": "text/x-python",
   "name": "python",
   "nbconvert_exporter": "python",
   "pygments_lexer": "ipython3",
   "version": "3.7.6"
  }
 },
 "nbformat": 4,
 "nbformat_minor": 4
}
